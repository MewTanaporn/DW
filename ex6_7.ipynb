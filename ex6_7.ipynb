{
  "nbformat": 4,
  "nbformat_minor": 0,
  "metadata": {
    "colab": {
      "name": "ex6-7.ipynb",
      "provenance": [],
      "include_colab_link": true
    },
    "kernelspec": {
      "name": "python3",
      "display_name": "Python 3"
    }
  },
  "cells": [
    {
      "cell_type": "markdown",
      "metadata": {
        "id": "view-in-github",
        "colab_type": "text"
      },
      "source": [
        "<a href=\"https://colab.research.google.com/github/MewTanaporn/DW/blob/master/ex6_7.ipynb\" target=\"_parent\"><img src=\"https://colab.research.google.com/assets/colab-badge.svg\" alt=\"Open In Colab\"/></a>"
      ]
    },
    {
      "cell_type": "code",
      "metadata": {
        "id": "qPEj4-3BwhHC",
        "colab_type": "code",
        "colab": {}
      },
      "source": [
        "import numpy as np"
      ],
      "execution_count": 0,
      "outputs": []
    },
    {
      "cell_type": "markdown",
      "metadata": {
        "id": "vp9sBYU1wkEu",
        "colab_type": "text"
      },
      "source": [
        "จะโหลดไฟล์ไททานิกเข้ามาจากgithub \\\n",
        "use link https://raw.githubusercontent.com/MewTanaporn/DW/master/name.csv\n",
        "ดูด้วยว่าdelimiterคืออะไร ต้องเอาออก เช่นถ้าำในrapid ใช้ ; ก็ต้อง delimiter=';'"
      ]
    },
    {
      "cell_type": "code",
      "metadata": {
        "id": "WUnKEv1-wtqi",
        "colab_type": "code",
        "outputId": "a75ba300-74a1-4458-9603-96beaf9e5d9d",
        "colab": {
          "base_uri": "https://localhost:8080/",
          "height": 34
        }
      },
      "source": [
        "titanic=np.genfromtxt('https://raw.githubusercontent.com/MewTanaporn/DW/master/titanic1.csv',dtype=str,missing_values = None,delimiter=';')\n",
        "titanic.shape"
      ],
      "execution_count": 0,
      "outputs": [
        {
          "output_type": "execute_result",
          "data": {
            "text/plain": [
              "(1309, 12)"
            ]
          },
          "metadata": {
            "tags": []
          },
          "execution_count": 13
        }
      ]
    },
    {
      "cell_type": "markdown",
      "metadata": {
        "id": "4zB1WtWR4axc",
        "colab_type": "text"
      },
      "source": [
        "อย่าเอาหัวฟีเจอร์มาในnp เอามาในpandas"
      ]
    },
    {
      "cell_type": "code",
      "metadata": {
        "id": "Nl8lhPCWy1Xl",
        "colab_type": "code",
        "outputId": "8ab12de8-6fac-46db-d148-4db7dc59e480",
        "colab": {
          "base_uri": "https://localhost:8080/",
          "height": 238
        }
      },
      "source": [
        "titanic"
      ],
      "execution_count": 0,
      "outputs": [
        {
          "output_type": "execute_result",
          "data": {
            "text/plain": [
              "array([['First', 'Allen, Miss. Elisabeth Walton', 'Female', ...,\n",
              "        'Southampton', '2', 'Yes'],\n",
              "       ['First', 'Allison, Master. Hudson Trevor', 'Male', ...,\n",
              "        'Southampton', '11', 'Yes'],\n",
              "       ['First', 'Allison, Miss. Helen Loraine', 'Female', ...,\n",
              "        'Southampton', '', 'No'],\n",
              "       ...,\n",
              "       ['Third', 'Zakarian, Mr. Mapriededer', 'Male', ..., 'Cherbourg',\n",
              "        '', 'No'],\n",
              "       ['Third', 'Zakarian, Mr. Ortin', 'Male', ..., 'Cherbourg', '',\n",
              "        'No'],\n",
              "       ['Third', 'Zimmerman, Mr. Leo', 'Male', ..., 'Southampton', '',\n",
              "        'No']], dtype='<U82')"
            ]
          },
          "metadata": {
            "tags": []
          },
          "execution_count": 52
        }
      ]
    },
    {
      "cell_type": "markdown",
      "metadata": {
        "id": "RwYtIx0z5GuT",
        "colab_type": "text"
      },
      "source": [
        "delete features unwanted"
      ]
    },
    {
      "cell_type": "code",
      "metadata": {
        "id": "j132v71E4VtK",
        "colab_type": "code",
        "outputId": "b1799354-c481-4615-ce5c-b00752357f6d",
        "colab": {
          "base_uri": "https://localhost:8080/",
          "height": 136
        }
      },
      "source": [
        "titanic_clean=np.delete(titanic,[1,3,6,7,8,9,10],1)\n",
        "titanic_clean"
      ],
      "execution_count": 0,
      "outputs": [
        {
          "output_type": "execute_result",
          "data": {
            "text/plain": [
              "array([['First', 'Female', '0', '0', 'Yes'],\n",
              "       ['First', 'Male', '1', '2', 'Yes'],\n",
              "       ['First', 'Female', '1', '2', 'No'],\n",
              "       ...,\n",
              "       ['Third', 'Male', '0', '0', 'No'],\n",
              "       ['Third', 'Male', '0', '0', 'No'],\n",
              "       ['Third', 'Male', '0', '0', 'No']], dtype='<U82')"
            ]
          },
          "metadata": {
            "tags": []
          },
          "execution_count": 64
        }
      ]
    },
    {
      "cell_type": "code",
      "metadata": {
        "id": "BpOiSY4bQFpo",
        "colab_type": "code",
        "outputId": "8098136a-831d-4372-890b-2e27b4a49a29",
        "colab": {
          "base_uri": "https://localhost:8080/",
          "height": 34
        }
      },
      "source": [
        "passenger_class=np.unique(titanic_clean[:,0])\n",
        "passenger_class"
      ],
      "execution_count": 0,
      "outputs": [
        {
          "output_type": "execute_result",
          "data": {
            "text/plain": [
              "array(['First', 'Second', 'Third'], dtype='<U82')"
            ]
          },
          "metadata": {
            "tags": []
          },
          "execution_count": 65
        }
      ]
    },
    {
      "cell_type": "code",
      "metadata": {
        "id": "pEoQIVRX5bAU",
        "colab_type": "code",
        "outputId": "5a7ff4ac-2d60-40cb-e4cc-937c791d373a",
        "colab": {
          "base_uri": "https://localhost:8080/",
          "height": 34
        }
      },
      "source": [
        "sex=np.unique(titanic_clean[:,1])\n",
        "sex"
      ],
      "execution_count": 0,
      "outputs": [
        {
          "output_type": "execute_result",
          "data": {
            "text/plain": [
              "array(['Female', 'Male'], dtype='<U82')"
            ]
          },
          "metadata": {
            "tags": []
          },
          "execution_count": 66
        }
      ]
    },
    {
      "cell_type": "code",
      "metadata": {
        "id": "nMEuBHlcGnoh",
        "colab_type": "code",
        "outputId": "60d30080-4338-447d-fd54-324e67cd5765",
        "colab": {
          "base_uri": "https://localhost:8080/",
          "height": 34
        }
      },
      "source": [
        "survived = np.unique(titanic_clean[:,-1])\n",
        "survived"
      ],
      "execution_count": 0,
      "outputs": [
        {
          "output_type": "execute_result",
          "data": {
            "text/plain": [
              "array(['No', 'Yes'], dtype='<U82')"
            ]
          },
          "metadata": {
            "tags": []
          },
          "execution_count": 67
        }
      ]
    },
    {
      "cell_type": "code",
      "metadata": {
        "id": "glN2g4ilG_LL",
        "colab_type": "code",
        "outputId": "d5be462f-57e0-4ca7-9d85-b326f34bd0cc",
        "colab": {
          "base_uri": "https://localhost:8080/",
          "height": 34
        }
      },
      "source": [
        "sex_value = [sum(titanic_clean[:,1]==sex[0]),\n",
        "            sum(titanic_clean[:,1]==sex[1])]\n",
        "sex_value"
      ],
      "execution_count": 0,
      "outputs": [
        {
          "output_type": "execute_result",
          "data": {
            "text/plain": [
              "[466, 843]"
            ]
          },
          "metadata": {
            "tags": []
          },
          "execution_count": 68
        }
      ]
    },
    {
      "cell_type": "code",
      "metadata": {
        "id": "tmD8vZ2oHoXa",
        "colab_type": "code",
        "outputId": "184670e7-b4cf-4dad-d08b-c1e577c86fa1",
        "colab": {
          "base_uri": "https://localhost:8080/",
          "height": 34
        }
      },
      "source": [
        "survived_value = [sum(titanic_clean[:,-1] == survived[0]),\n",
        "                 sum(titanic_clean[:,-1] == survived[1])]\n",
        "survived_value\n",
        "         "
      ],
      "execution_count": 0,
      "outputs": [
        {
          "output_type": "execute_result",
          "data": {
            "text/plain": [
              "[809, 500]"
            ]
          },
          "metadata": {
            "tags": []
          },
          "execution_count": 69
        }
      ]
    },
    {
      "cell_type": "code",
      "metadata": {
        "id": "aKHUZGqoIgXZ",
        "colab_type": "code",
        "outputId": "b0010f7c-76f9-46af-b585-edaf8a0e311a",
        "colab": {
          "base_uri": "https://localhost:8080/",
          "height": 214
        }
      },
      "source": [
        "import matplotlib.pyplot as plt\n",
        "fig,axes = plt.subplots(1,2,figsize=(8,3))\n",
        "axes[0].bar(sex,sex_value)\n",
        "axes[1].bar(survived,survived_value)\n",
        "plt.show()"
      ],
      "execution_count": 0,
      "outputs": [
        {
          "output_type": "display_data",
          "data": {
            "image/png": "[encoded data removed]",
            "text/plain": [
              "<Figure size 576x216 with 2 Axes>"
            ]
          },
          "metadata": {
            "tags": []
          }
        }
      ]
    },
    {
      "cell_type": "code",
      "metadata": {
        "id": "-KZqZC-0SJt_",
        "colab_type": "code",
        "colab": {}
      },
      "source": [
        ""
      ],
      "execution_count": 0,
      "outputs": []
    },
    {
      "cell_type": "code",
      "metadata": {
        "id": "bnnGg2uzKP-_",
        "colab_type": "code",
        "outputId": "162d8ff8-e89b-4166-fbee-772a0eacd650",
        "colab": {
          "base_uri": "https://localhost:8080/",
          "height": 136
        }
      },
      "source": [
        "titanic_clean[titanic_clean == passenger_class[0]]= 0\n",
        "titanic_clean[titanic_clean == passenger_class[1]]= 1\n",
        "titanic_clean[titanic_clean == passenger_class[2]]= 2\n",
        "titanic_clean[titanic_clean == sex[0]]= 0\n",
        "titanic_clean[titanic_clean == sex[1]]= 1\n",
        "titanic_clean[titanic_clean == survived[0]]= 0\n",
        "titanic_clean[titanic_clean == survived[1]]= 1\n",
        "titanic_clean"
      ],
      "execution_count": 0,
      "outputs": [
        {
          "output_type": "execute_result",
          "data": {
            "text/plain": [
              "array([['0', '0', '0', '0', '1'],\n",
              "       ['0', '1', '1', '2', '1'],\n",
              "       ['0', '0', '1', '2', '0'],\n",
              "       ...,\n",
              "       ['2', '1', '0', '0', '0'],\n",
              "       ['2', '1', '0', '0', '0'],\n",
              "       ['2', '1', '0', '0', '0']], dtype='<U82')"
            ]
          },
          "metadata": {
            "tags": []
          },
          "execution_count": 71
        }
      ]
    },
    {
      "cell_type": "code",
      "metadata": {
        "id": "n4eT75l9P_X4",
        "colab_type": "code",
        "outputId": "85604914-5748-4bf7-b804-c3a630b02860",
        "colab": {
          "base_uri": "https://localhost:8080/",
          "height": 34
        }
      },
      "source": [
        "\n",
        "titanic_clean=titanic_clean.astype('float')\n",
        "titanic_clean.dtype"
      ],
      "execution_count": 0,
      "outputs": [
        {
          "output_type": "execute_result",
          "data": {
            "text/plain": [
              "dtype('float64')"
            ]
          },
          "metadata": {
            "tags": []
          },
          "execution_count": 80
        }
      ]
    },
    {
      "cell_type": "code",
      "metadata": {
        "id": "lNhphKleQubt",
        "colab_type": "code",
        "outputId": "71935506-31b4-4656-87e1-bc6b52321afb",
        "colab": {
          "base_uri": "https://localhost:8080/",
          "height": 34
        }
      },
      "source": [
        "y=titanic_clean[:,-1]\n",
        "x=np.delete(titanic_clean,-1,1)\n",
        "x.shape"
      ],
      "execution_count": 0,
      "outputs": [
        {
          "output_type": "execute_result",
          "data": {
            "text/plain": [
              "(1309, 4)"
            ]
          },
          "metadata": {
            "tags": []
          },
          "execution_count": 81
        }
      ]
    },
    {
      "cell_type": "code",
      "metadata": {
        "id": "7_v7C4CmSjxp",
        "colab_type": "code",
        "outputId": "be1ffd71-ed51-4187-b667-8c55e1634d93",
        "colab": {
          "base_uri": "https://localhost:8080/",
          "height": 136
        }
      },
      "source": [
        "x_norm=(x-np.min(x,0)) / (np.max(x,0)-np.min(x,0))\n",
        "x_norm"
      ],
      "execution_count": 0,
      "outputs": [
        {
          "output_type": "execute_result",
          "data": {
            "text/plain": [
              "array([[0.        , 0.        , 0.        , 0.        ],\n",
              "       [0.        , 1.        , 0.125     , 0.22222222],\n",
              "       [0.        , 0.        , 0.125     , 0.22222222],\n",
              "       ...,\n",
              "       [1.        , 1.        , 0.        , 0.        ],\n",
              "       [1.        , 1.        , 0.        , 0.        ],\n",
              "       [1.        , 1.        , 0.        , 0.        ]])"
            ]
          },
          "metadata": {
            "tags": []
          },
          "execution_count": 86
        }
      ]
    },
    {
      "cell_type": "code",
      "metadata": {
        "id": "aWe-6VZOTXsE",
        "colab_type": "code",
        "colab": {}
      },
      "source": [
        ""
      ],
      "execution_count": 0,
      "outputs": []
    }
  ]
}