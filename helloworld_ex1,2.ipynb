{
  "nbformat": 4,
  "nbformat_minor": 0,
  "metadata": {
    "colab": {
      "name": "helloworld ex1,2.ipynb",
      "provenance": [],
      "collapsed_sections": [],
      "include_colab_link": true
    },
    "kernelspec": {
      "name": "python3",
      "display_name": "Python 3"
    }
  },
  "cells": [
    {
      "cell_type": "markdown",
      "metadata": {
        "id": "view-in-github",
        "colab_type": "text"
      },
      "source": [
        "<a href=\"https://colab.research.google.com/github/MewTanaporn/DW/blob/master/helloworld_ex1%2C2.ipynb\" target=\"_parent\"><img src=\"https://colab.research.google.com/assets/colab-badge.svg\" alt=\"Open In Colab\"/></a>"
      ]
    },
    {
      "cell_type": "markdown",
      "metadata": {
        "id": "ldzDVe48iTkl",
        "colab_type": "text"
      },
      "source": [
        "# Hello Python หัวข้อใหญ่\n",
        "## หัวข้อรอง\n",
        "### หัวข้อรองๆ\n",
        "This is my first python program"
      ]
    },
    {
      "cell_type": "code",
      "metadata": {
        "id": "rVUYkaOrh1Pr",
        "colab_type": "code",
        "outputId": "cd04b4a2-c329-4913-ce47-362f4eff96d6",
        "colab": {
          "base_uri": "https://localhost:8080/",
          "height": 34
        }
      },
      "source": [
        "print(\"Hello World\")"
      ],
      "execution_count": 0,
      "outputs": [
        {
          "output_type": "stream",
          "text": [
            "Hello World\n"
          ],
          "name": "stdout"
        }
      ]
    },
    {
      "cell_type": "markdown",
      "metadata": {
        "id": "sqN1X3eFjMbx",
        "colab_type": "text"
      },
      "source": [
        "#Declare Variable\n",
        "how to declare variable in python"
      ]
    },
    {
      "cell_type": "code",
      "metadata": {
        "id": "tD-_z6Y6i8nX",
        "colab_type": "code",
        "outputId": "a29c8661-64b7-44f3-8d31-4e118accaacd",
        "colab": {
          "base_uri": "https://localhost:8080/",
          "height": 34
        }
      },
      "source": [
        "score=100\n",
        "name =\"Tanaporn\"\n",
        "print(\"Name is \" +name+ \" score is \"+str(score))"
      ],
      "execution_count": 0,
      "outputs": [
        {
          "output_type": "stream",
          "text": [
            "Name is Tanaporn score is 100\n"
          ],
          "name": "stdout"
        }
      ]
    },
    {
      "cell_type": "markdown",
      "metadata": {
        "id": "tpzwUhpokO6g",
        "colab_type": "text"
      },
      "source": [
        "ที่ต้องใช้strเพราะเราเอาscoreไปต่อstrเลยต้องทำงั้น ถ้านจะแสดงscoreก็printเลย"
      ]
    },
    {
      "cell_type": "code",
      "metadata": {
        "id": "gBajEhi_j5Io",
        "colab_type": "code",
        "outputId": "2e14e59d-13fd-4221-e051-090887ee1b69",
        "colab": {
          "base_uri": "https://localhost:8080/",
          "height": 34
        }
      },
      "source": [
        "a=2 \n",
        "b=3\n",
        "c=a*b\n",
        "print(c)"
      ],
      "execution_count": 9,
      "outputs": [
        {
          "output_type": "stream",
          "text": [
            "6\n"
          ],
          "name": "stdout"
        }
      ]
    },
    {
      "cell_type": "markdown",
      "metadata": {
        "id": "AozKLgSamv6P",
        "colab_type": "text"
      },
      "source": [
        "# list/List\n",
        "array keep data\n",
        "\n",
        "how to use\n",
        "\n",
        "mylistโชว์สistว่าเก็บค่าอะไร"
      ]
    },
    {
      "cell_type": "code",
      "metadata": {
        "id": "inwyF7bfkb_I",
        "colab_type": "code",
        "colab": {
          "base_uri": "https://localhost:8080/",
          "height": 34
        },
        "outputId": "4421bc07-adcb-4b86-d409-9a94feec1c89"
      },
      "source": [
        "mylist=[]\n",
        "mylist.append(\"mew\")\n",
        "mylist.append(200)\n",
        "mylist"
      ],
      "execution_count": 19,
      "outputs": [
        {
          "output_type": "execute_result",
          "data": {
            "text/plain": [
              "['mew', 200]"
            ]
          },
          "metadata": {
            "tags": []
          },
          "execution_count": 19
        }
      ]
    },
    {
      "cell_type": "markdown",
      "metadata": {
        "id": "9yAIWzKmnN99",
        "colab_type": "text"
      },
      "source": [
        "len บอกจนข้อมูลในlist"
      ]
    },
    {
      "cell_type": "code",
      "metadata": {
        "id": "SIXZuGRznM4s",
        "colab_type": "code",
        "colab": {
          "base_uri": "https://localhost:8080/",
          "height": 34
        },
        "outputId": "3143d0c1-d1b6-452d-e379-8478afc0810f"
      },
      "source": [
        "len(mylist)"
      ],
      "execution_count": 12,
      "outputs": [
        {
          "output_type": "execute_result",
          "data": {
            "text/plain": [
              "2"
            ]
          },
          "metadata": {
            "tags": []
          },
          "execution_count": 12
        }
      ]
    },
    {
      "cell_type": "markdown",
      "metadata": {
        "id": "bFOwYNkMnxAm",
        "colab_type": "text"
      },
      "source": [
        "# if else in PyThon\n",
        "how to use \n",
        "\n",
        "*** tap mean () or {}***"
      ]
    },
    {
      "cell_type": "code",
      "metadata": {
        "id": "1RM_X9oOneK8",
        "colab_type": "code",
        "colab": {
          "base_uri": "https://localhost:8080/",
          "height": 34
        },
        "outputId": "7232d7d0-b3f5-45c9-c52a-b53e4b5f0f8c"
      },
      "source": [
        "score=5\n",
        "if score > 50 :\n",
        "  print(\"Cool\")\n",
        "elif score > 20 :\n",
        "  print(\"very pass\")\n",
        "else :\n",
        "  print(\"Must Read\")\n",
        "  "
      ],
      "execution_count": 28,
      "outputs": [
        {
          "output_type": "stream",
          "text": [
            "Must Read\n"
          ],
          "name": "stdout"
        }
      ]
    },
    {
      "cell_type": "markdown",
      "metadata": {
        "id": "OnJRAoA1ooEU",
        "colab_type": "text"
      },
      "source": [
        "อยู่แนวเดียวกันคือกลุ่มเดียวกัน\n",
        "behide if else must have :"
      ]
    },
    {
      "cell_type": "code",
      "metadata": {
        "id": "RVr95HpWohDh",
        "colab_type": "code",
        "colab": {
          "base_uri": "https://localhost:8080/",
          "height": 204
        },
        "outputId": "4bd9df9a-1a93-4d68-8047-e8d1530dab78"
      },
      "source": [
        "summation=0\n",
        "for i in range(0,10):\n",
        "  print(str(i))\n",
        "  summation=summation+1\n",
        "print(\"Summation result is \"+str(summation) \"and \")"
      ],
      "execution_count": 29,
      "outputs": [
        {
          "output_type": "stream",
          "text": [
            "0\n",
            "1\n",
            "2\n",
            "3\n",
            "4\n",
            "5\n",
            "6\n",
            "7\n",
            "8\n",
            "9\n",
            "Summation result is 10\n"
          ],
          "name": "stdout"
        }
      ]
    },
    {
      "cell_type": "code",
      "metadata": {
        "id": "EzWiBWOYrfcR",
        "colab_type": "code",
        "colab": {
          "base_uri": "https://localhost:8080/",
          "height": 187
        },
        "outputId": "73d3c5cd-4825-441e-dcee-b23a29c5a217"
      },
      "source": [
        "summa=[]\n",
        "for i in range(0,10):\n",
        "  summa.append(i)\n",
        "  \n",
        "for i in summa:\n",
        "  print(str(i))\n",
        "  "
      ],
      "execution_count": 30,
      "outputs": [
        {
          "output_type": "stream",
          "text": [
            "0\n",
            "1\n",
            "2\n",
            "3\n",
            "4\n",
            "5\n",
            "6\n",
            "7\n",
            "8\n",
            "9\n"
          ],
          "name": "stdout"
        }
      ]
    },
    {
      "cell_type": "code",
      "metadata": {
        "id": "izBu-JhzsM1f",
        "colab_type": "code",
        "colab": {
          "base_uri": "https://localhost:8080/",
          "height": 187
        },
        "outputId": "fdd2d1fb-f17e-4dc6-bd5c-06d91c7294f7"
      },
      "source": [
        "summa=[]\n",
        "a=0\n",
        "for i in range(0,10):\n",
        "  a=a+5\n",
        "  summa.append(a)\n",
        "  \n",
        "for i in summa:\n",
        "  print(str(i))"
      ],
      "execution_count": 35,
      "outputs": [
        {
          "output_type": "stream",
          "text": [
            "5\n",
            "10\n",
            "15\n",
            "20\n",
            "25\n",
            "30\n",
            "35\n",
            "40\n",
            "45\n",
            "50\n"
          ],
          "name": "stdout"
        }
      ]
    },
    {
      "cell_type": "code",
      "metadata": {
        "id": "HPOWtxo4s3oH",
        "colab_type": "code",
        "colab": {
          "base_uri": "https://localhost:8080/",
          "height": 187
        },
        "outputId": "d9483e83-04f5-4b92-a60e-209b88d91f3f"
      },
      "source": [
        "summa=[]\n",
        "a=0\n",
        "for i in range(0,10):\n",
        "  a=a+5\n",
        "  summa.append(a)\n",
        "  print(a)"
      ],
      "execution_count": 36,
      "outputs": [
        {
          "output_type": "stream",
          "text": [
            "5\n",
            "10\n",
            "15\n",
            "20\n",
            "25\n",
            "30\n",
            "35\n",
            "40\n",
            "45\n",
            "50\n"
          ],
          "name": "stdout"
        }
      ]
    },
    {
      "cell_type": "markdown",
      "metadata": {
        "id": "frfugzjnvSpP",
        "colab_type": "text"
      },
      "source": [
        "# Numpy \n",
        "Library for matrix operation"
      ]
    },
    {
      "cell_type": "code",
      "metadata": {
        "id": "adkW3oF4s7yU",
        "colab_type": "code",
        "colab": {}
      },
      "source": [
        "import numpy as np\n"
      ],
      "execution_count": 0,
      "outputs": []
    },
    {
      "cell_type": "markdown",
      "metadata": {
        "id": "hBPZu0EwwZJr",
        "colab_type": "text"
      },
      "source": [
        "## Create array in numpy\n",
        "typeดูชนิดตัวแปรว่าเป็นอะไรเช่นarray"
      ]
    },
    {
      "cell_type": "code",
      "metadata": {
        "id": "9LO-OLf7vq-7",
        "colab_type": "code",
        "colab": {
          "base_uri": "https://localhost:8080/",
          "height": 34
        },
        "outputId": "1f29a31a-2d94-4adb-c6ee-65587de1bf8a"
      },
      "source": [
        "l = [1,2,3,4]\n",
        "np_array = np.array(l)\n",
        "type(np_array)\n"
      ],
      "execution_count": 44,
      "outputs": [
        {
          "output_type": "execute_result",
          "data": {
            "text/plain": [
              "numpy.ndarray"
            ]
          },
          "metadata": {
            "tags": []
          },
          "execution_count": 44
        }
      ]
    },
    {
      "cell_type": "markdown",
      "metadata": {
        "id": "pJcSmXiXyiig",
        "colab_type": "text"
      },
      "source": [
        "# Create Matrix"
      ]
    },
    {
      "cell_type": "markdown",
      "metadata": {
        "id": "ubKuo3wUxzJN",
        "colab_type": "text"
      },
      "source": [
        "## Create Matrix in Arrat format"
      ]
    },
    {
      "cell_type": "code",
      "metadata": {
        "id": "0p2w6nTEwna-",
        "colab_type": "code",
        "colab": {}
      },
      "source": [
        "np_matrix = np.array([[1,2],[3,4],[5,6]])"
      ],
      "execution_count": 0,
      "outputs": []
    },
    {
      "cell_type": "code",
      "metadata": {
        "id": "vHvDXMlUyNPh",
        "colab_type": "code",
        "colab": {
          "base_uri": "https://localhost:8080/",
          "height": 68
        },
        "outputId": "c84ef9fc-9d34-4ce7-9ed6-f9f0ba5b5ae6"
      },
      "source": [
        "np_matrix"
      ],
      "execution_count": 50,
      "outputs": [
        {
          "output_type": "execute_result",
          "data": {
            "text/plain": [
              "array([[1, 2],\n",
              "       [3, 4],\n",
              "       [5, 6]])"
            ]
          },
          "metadata": {
            "tags": []
          },
          "execution_count": 50
        }
      ]
    },
    {
      "cell_type": "markdown",
      "metadata": {
        "id": "-3jqSh1JyrZH",
        "colab_type": "text"
      },
      "source": [
        "# Check Matrix Size"
      ]
    },
    {
      "cell_type": "markdown",
      "metadata": {
        "id": "69G0AYBqy1_A",
        "colab_type": "text"
      },
      "source": [
        "## check  matrix size\n",
        "[matrix,0]=row\n",
        "[matrix,1]=column"
      ]
    },
    {
      "cell_type": "code",
      "metadata": {
        "id": "lX_-8of3y1QH",
        "colab_type": "code",
        "colab": {
          "base_uri": "https://localhost:8080/",
          "height": 34
        },
        "outputId": "db95f6ba-7bac-4977-8171-9ef45786bed2"
      },
      "source": [
        "np.size(np_matrix,0)"
      ],
      "execution_count": 53,
      "outputs": [
        {
          "output_type": "execute_result",
          "data": {
            "text/plain": [
              "3"
            ]
          },
          "metadata": {
            "tags": []
          },
          "execution_count": 53
        }
      ]
    },
    {
      "cell_type": "code",
      "metadata": {
        "id": "6ZNGvo-G0eW7",
        "colab_type": "code",
        "colab": {
          "base_uri": "https://localhost:8080/",
          "height": 34
        },
        "outputId": "f036d432-4fae-4a21-8a22-6b983c9398bf"
      },
      "source": [
        "np.size(np_matrix,1)"
      ],
      "execution_count": 54,
      "outputs": [
        {
          "output_type": "execute_result",
          "data": {
            "text/plain": [
              "2"
            ]
          },
          "metadata": {
            "tags": []
          },
          "execution_count": 54
        }
      ]
    },
    {
      "cell_type": "markdown",
      "metadata": {
        "id": "9SL7FW7p0xfm",
        "colab_type": "text"
      },
      "source": [
        "##check other matrix properties"
      ]
    },
    {
      "cell_type": "code",
      "metadata": {
        "id": "7TTGYVlx0vRM",
        "colab_type": "code",
        "colab": {
          "base_uri": "https://localhost:8080/",
          "height": 34
        },
        "outputId": "91857d12-dc78-48d0-96b3-42dd9cdbce17"
      },
      "source": [
        "np_matrix.shape"
      ],
      "execution_count": 55,
      "outputs": [
        {
          "output_type": "execute_result",
          "data": {
            "text/plain": [
              "(3, 2)"
            ]
          },
          "metadata": {
            "tags": []
          },
          "execution_count": 55
        }
      ]
    },
    {
      "cell_type": "code",
      "metadata": {
        "id": "SPmAvhyM1HGk",
        "colab_type": "code",
        "colab": {
          "base_uri": "https://localhost:8080/",
          "height": 34
        },
        "outputId": "f87ae500-c95c-42fe-8780-16095c131f86"
      },
      "source": [
        "np_matrix.ndim"
      ],
      "execution_count": 56,
      "outputs": [
        {
          "output_type": "execute_result",
          "data": {
            "text/plain": [
              "2"
            ]
          },
          "metadata": {
            "tags": []
          },
          "execution_count": 56
        }
      ]
    },
    {
      "cell_type": "code",
      "metadata": {
        "id": "XGHVMRLn1NSE",
        "colab_type": "code",
        "colab": {
          "base_uri": "https://localhost:8080/",
          "height": 34
        },
        "outputId": "4b2e899e-d78c-4b31-c85a-e1e785ec8a23"
      },
      "source": [
        "np_matrix.size"
      ],
      "execution_count": 57,
      "outputs": [
        {
          "output_type": "execute_result",
          "data": {
            "text/plain": [
              "6"
            ]
          },
          "metadata": {
            "tags": []
          },
          "execution_count": 57
        }
      ]
    },
    {
      "cell_type": "markdown",
      "metadata": {
        "id": "_kn683uS1SiA",
        "colab_type": "text"
      },
      "source": [
        "#matrix can be mix type\n",
        "##Create Matrix with Mix Data Type"
      ]
    },
    {
      "cell_type": "code",
      "metadata": {
        "id": "BnFhHDuB1Qm8",
        "colab_type": "code",
        "colab": {}
      },
      "source": [
        "np_mix_matrix=np.array([['one',2],['three',4],['five',6]])"
      ],
      "execution_count": 0,
      "outputs": []
    },
    {
      "cell_type": "code",
      "metadata": {
        "id": "cTNj4wkw14_Q",
        "colab_type": "code",
        "colab": {
          "base_uri": "https://localhost:8080/",
          "height": 68
        },
        "outputId": "a033a365-abe4-4180-d915-13233eab44b3"
      },
      "source": [
        "np_mix_matrix"
      ],
      "execution_count": 59,
      "outputs": [
        {
          "output_type": "execute_result",
          "data": {
            "text/plain": [
              "array([['one', '2'],\n",
              "       ['three', '4'],\n",
              "       ['five', '6']], dtype='<U5')"
            ]
          },
          "metadata": {
            "tags": []
          },
          "execution_count": 59
        }
      ]
    },
    {
      "cell_type": "markdown",
      "metadata": {
        "id": "7ZX1JLq41-2F",
        "colab_type": "text"
      },
      "source": [
        "#Access data element\n",
        "##Acess matrix element"
      ]
    },
    {
      "cell_type": "code",
      "metadata": {
        "id": "4MIZBShX18pS",
        "colab_type": "code",
        "colab": {
          "base_uri": "https://localhost:8080/",
          "height": 34
        },
        "outputId": "0d8a1879-39ae-45bb-a977-f06825f04b51"
      },
      "source": [
        "np_mix_matrix[0,1]"
      ],
      "execution_count": 60,
      "outputs": [
        {
          "output_type": "execute_result",
          "data": {
            "text/plain": [
              "'2'"
            ]
          },
          "metadata": {
            "tags": []
          },
          "execution_count": 60
        }
      ]
    },
    {
      "cell_type": "markdown",
      "metadata": {
        "id": "x2VRezsx2Un0",
        "colab_type": "text"
      },
      "source": [
        "Access all coloum of matrix"
      ]
    },
    {
      "cell_type": "code",
      "metadata": {
        "id": "DulC-BlM2NPa",
        "colab_type": "code",
        "colab": {
          "base_uri": "https://localhost:8080/",
          "height": 34
        },
        "outputId": "172b08ae-e212-4691-c4c3-e4f356e89035"
      },
      "source": [
        "np_mix_matrix[:,0]"
      ],
      "execution_count": 61,
      "outputs": [
        {
          "output_type": "execute_result",
          "data": {
            "text/plain": [
              "array(['one', 'three', 'five'], dtype='<U5')"
            ]
          },
          "metadata": {
            "tags": []
          },
          "execution_count": 61
        }
      ]
    },
    {
      "cell_type": "markdown",
      "metadata": {
        "id": "Q1RVC5sg2i1H",
        "colab_type": "text"
      },
      "source": [
        "Access all row of matrix"
      ]
    },
    {
      "cell_type": "code",
      "metadata": {
        "id": "EjVpkVDc2gGy",
        "colab_type": "code",
        "colab": {
          "base_uri": "https://localhost:8080/",
          "height": 34
        },
        "outputId": "9ed8c2ab-7780-447c-9ea9-189853f73099"
      },
      "source": [
        "np_mix_matrix[0,]"
      ],
      "execution_count": 62,
      "outputs": [
        {
          "output_type": "execute_result",
          "data": {
            "text/plain": [
              "array(['one', '2'], dtype='<U5')"
            ]
          },
          "metadata": {
            "tags": []
          },
          "execution_count": 62
        }
      ]
    },
    {
      "cell_type": "markdown",
      "metadata": {
        "id": "E5ZrlzX32v1n",
        "colab_type": "text"
      },
      "source": [
        "#Access Data & Type Casting\n",
        "Access element from row 0 to row 1"
      ]
    },
    {
      "cell_type": "code",
      "metadata": {
        "id": "lRdlA-592rRr",
        "colab_type": "code",
        "colab": {
          "base_uri": "https://localhost:8080/",
          "height": 51
        },
        "outputId": "9079523b-744c-40db-bc5b-5cbd141554c4"
      },
      "source": [
        "np_mix_matrix[0:2,]"
      ],
      "execution_count": 63,
      "outputs": [
        {
          "output_type": "execute_result",
          "data": {
            "text/plain": [
              "array([['one', '2'],\n",
              "       ['three', '4']], dtype='<U5')"
            ]
          },
          "metadata": {
            "tags": []
          },
          "execution_count": 63
        }
      ]
    },
    {
      "cell_type": "markdown",
      "metadata": {
        "id": "XVSKHufo38Ec",
        "colab_type": "text"
      },
      "source": [
        "เรียกแถวที่0 2ตัว\n",
        "Type casting ndarray object"
      ]
    },
    {
      "cell_type": "code",
      "metadata": {
        "id": "RfpfJn4l37A4",
        "colab_type": "code",
        "colab": {
          "base_uri": "https://localhost:8080/",
          "height": 34
        },
        "outputId": "8b8a77cb-7c1e-4bcc-db74-c33259da0997"
      },
      "source": [
        "np.array(np_mix_matrix[:,1],dtype=int)"
      ],
      "execution_count": 64,
      "outputs": [
        {
          "output_type": "execute_result",
          "data": {
            "text/plain": [
              "array([2, 4, 6])"
            ]
          },
          "metadata": {
            "tags": []
          },
          "execution_count": 64
        }
      ]
    },
    {
      "cell_type": "markdown",
      "metadata": {
        "id": "oDm1wb8J4TnS",
        "colab_type": "text"
      },
      "source": [
        "Create matrix of zeros"
      ]
    },
    {
      "cell_type": "code",
      "metadata": {
        "id": "bDZS-IJy4Ri5",
        "colab_type": "code",
        "colab": {
          "base_uri": "https://localhost:8080/",
          "height": 51
        },
        "outputId": "350fb6c9-6d5d-4319-af46-913b537b16a4"
      },
      "source": [
        "np.zeros([2,3])"
      ],
      "execution_count": 65,
      "outputs": [
        {
          "output_type": "execute_result",
          "data": {
            "text/plain": [
              "array([[0., 0., 0.],\n",
              "       [0., 0., 0.]])"
            ]
          },
          "metadata": {
            "tags": []
          },
          "execution_count": 65
        }
      ]
    },
    {
      "cell_type": "markdown",
      "metadata": {
        "id": "vTUZ-SJY4fAs",
        "colab_type": "text"
      },
      "source": [
        "Create matrix of ones"
      ]
    },
    {
      "cell_type": "code",
      "metadata": {
        "id": "p7I9W07w4dJQ",
        "colab_type": "code",
        "colab": {
          "base_uri": "https://localhost:8080/",
          "height": 102
        },
        "outputId": "4cd8cc81-c3e5-4509-aba3-9a84a95b2ed3"
      },
      "source": [
        "np.ones([5,5])"
      ],
      "execution_count": 66,
      "outputs": [
        {
          "output_type": "execute_result",
          "data": {
            "text/plain": [
              "array([[1., 1., 1., 1., 1.],\n",
              "       [1., 1., 1., 1., 1.],\n",
              "       [1., 1., 1., 1., 1.],\n",
              "       [1., 1., 1., 1., 1.],\n",
              "       [1., 1., 1., 1., 1.]])"
            ]
          },
          "metadata": {
            "tags": []
          },
          "execution_count": 66
        }
      ]
    },
    {
      "cell_type": "markdown",
      "metadata": {
        "id": "8V-nFI9m4ptt",
        "colab_type": "text"
      },
      "source": [
        "Create Eye matrix"
      ]
    },
    {
      "cell_type": "code",
      "metadata": {
        "id": "i35gWvzf4l5g",
        "colab_type": "code",
        "colab": {
          "base_uri": "https://localhost:8080/",
          "height": 119
        },
        "outputId": "f6db8450-a6fd-4af4-c72b-25f3eccbbc3b"
      },
      "source": [
        "np.eye(6)"
      ],
      "execution_count": 71,
      "outputs": [
        {
          "output_type": "execute_result",
          "data": {
            "text/plain": [
              "array([[1., 0., 0., 0., 0., 0.],\n",
              "       [0., 1., 0., 0., 0., 0.],\n",
              "       [0., 0., 1., 0., 0., 0.],\n",
              "       [0., 0., 0., 1., 0., 0.],\n",
              "       [0., 0., 0., 0., 1., 0.],\n",
              "       [0., 0., 0., 0., 0., 1.]])"
            ]
          },
          "metadata": {
            "tags": []
          },
          "execution_count": 71
        }
      ]
    },
    {
      "cell_type": "markdown",
      "metadata": {
        "id": "HwrfAoQB4yOh",
        "colab_type": "text"
      },
      "source": [
        "create empty matrix"
      ]
    },
    {
      "cell_type": "code",
      "metadata": {
        "id": "DWdfGNIZ4xEw",
        "colab_type": "code",
        "colab": {
          "base_uri": "https://localhost:8080/",
          "height": 102
        },
        "outputId": "538dd30f-1902-4dbd-97fd-68e7ddc2ee64"
      },
      "source": [
        "np.empty([5,5])"
      ],
      "execution_count": 72,
      "outputs": [
        {
          "output_type": "execute_result",
          "data": {
            "text/plain": [
              "array([[1., 0., 0., 0., 0.],\n",
              "       [0., 1., 0., 0., 0.],\n",
              "       [0., 0., 1., 0., 0.],\n",
              "       [0., 0., 0., 1., 0.],\n",
              "       [0., 0., 0., 0., 1.]])"
            ]
          },
          "metadata": {
            "tags": []
          },
          "execution_count": 72
        }
      ]
    },
    {
      "cell_type": "markdown",
      "metadata": {
        "id": "ZKdakWKv5P13",
        "colab_type": "text"
      },
      "source": [
        "random matrix of size =(5,5)"
      ]
    },
    {
      "cell_type": "code",
      "metadata": {
        "id": "qWsGIquA45AH",
        "colab_type": "code",
        "colab": {
          "base_uri": "https://localhost:8080/",
          "height": 102
        },
        "outputId": "d521cbf4-f1e8-4733-b528-899f92319305"
      },
      "source": [
        "np.random.rand(5,5)"
      ],
      "execution_count": 73,
      "outputs": [
        {
          "output_type": "execute_result",
          "data": {
            "text/plain": [
              "array([[0.2949132 , 0.8494589 , 0.45428942, 0.08718773, 0.11430996],\n",
              "       [0.30287187, 0.41934991, 0.56197387, 0.17207463, 0.64146297],\n",
              "       [0.37340947, 0.99019301, 0.94976045, 0.31808641, 0.11543145],\n",
              "       [0.4964898 , 0.84237011, 0.0478317 , 0.29744915, 0.78245864],\n",
              "       [0.88036656, 0.84974547, 0.47529897, 0.64741263, 0.07446096]])"
            ]
          },
          "metadata": {
            "tags": []
          },
          "execution_count": 73
        }
      ]
    },
    {
      "cell_type": "markdown",
      "metadata": {
        "id": "u-QL07CL5jRH",
        "colab_type": "text"
      },
      "source": [
        "random matrix of size = 3,3 having value between 0 to 4"
      ]
    },
    {
      "cell_type": "code",
      "metadata": {
        "id": "10sUJNsJ5cDn",
        "colab_type": "code",
        "colab": {
          "base_uri": "https://localhost:8080/",
          "height": 68
        },
        "outputId": "8023e598-bfe6-4300-8d4d-d1222564cacf"
      },
      "source": [
        "np.random.randint(5,size=(3,3))"
      ],
      "execution_count": 75,
      "outputs": [
        {
          "output_type": "execute_result",
          "data": {
            "text/plain": [
              "array([[4, 4, 4],\n",
              "       [4, 1, 4],\n",
              "       [0, 0, 0]])"
            ]
          },
          "metadata": {
            "tags": []
          },
          "execution_count": 75
        }
      ]
    },
    {
      "cell_type": "markdown",
      "metadata": {
        "id": "sqqOzpoJ6RMv",
        "colab_type": "text"
      },
      "source": [
        "uniform random districution\n",
        "โอกาสที่จะเกิดขึ้นในเท่ากัน\n",
        "\n",
        "Normal ระฆังคว่ำ เพราะมีกระจุกอยู่ที่หนึ่ง\n",
        "histการกระจายตัวของข้อมูล\n",
        "\n",
        "rand=uniform\n",
        "randn=normal"
      ]
    },
    {
      "cell_type": "code",
      "metadata": {
        "id": "wseN9Ddk6Lp2",
        "colab_type": "code",
        "colab": {
          "base_uri": "https://localhost:8080/",
          "height": 231
        },
        "outputId": "99b51d11-6fbc-433f-f516-30dd2e699542"
      },
      "source": [
        "import matplotlib.pyplot as plt\n",
        "fig,axes = plt.subplots(1,2,figsize=(8,3))\n",
        "axes[0].hist(np.random.rand(1000))\n",
        "axes[1].hist(np.random.randn(1000))\n",
        "plt.show"
      ],
      "execution_count": 79,
      "outputs": [
        {
          "output_type": "execute_result",
          "data": {
            "text/plain": [
              "<function matplotlib.pyplot.show>"
            ]
          },
          "metadata": {
            "tags": []
          },
          "execution_count": 79
        },
        {
          "output_type": "display_data",
          "data": {
            "image/png": "[encoded data removed]",
            "text/plain": [
              "<Figure size 576x216 with 2 Axes>"
            ]
          },
          "metadata": {
            "tags": []
          }
        }
      ]
    },
    {
      "cell_type": "markdown",
      "metadata": {
        "id": "4jV7psn98b_O",
        "colab_type": "text"
      },
      "source": [
        "randomly choose 3 num range from 0 to 4\n",
        "\n",
        "\n",
        "\n"
      ]
    },
    {
      "cell_type": "code",
      "metadata": {
        "id": "HnPJxSdP8GH6",
        "colab_type": "code",
        "colab": {
          "base_uri": "https://localhost:8080/",
          "height": 34
        },
        "outputId": "c8d355f1-6cde-4833-f1b7-ad34ef70dad2"
      },
      "source": [
        "np.random.choice(5,3,replace=False)"
      ],
      "execution_count": 80,
      "outputs": [
        {
          "output_type": "execute_result",
          "data": {
            "text/plain": [
              "array([2, 1, 4])"
            ]
          },
          "metadata": {
            "tags": []
          },
          "execution_count": 80
        }
      ]
    },
    {
      "cell_type": "markdown",
      "metadata": {
        "id": "eiY4JdNC8wX1",
        "colab_type": "text"
      },
      "source": [
        "randomly choose 3 row from 0 to 4 into nem matrix\n"
      ]
    },
    {
      "cell_type": "code",
      "metadata": {
        "id": "302cMuQI8rRT",
        "colab_type": "code",
        "colab": {
          "base_uri": "https://localhost:8080/",
          "height": 68
        },
        "outputId": "bba9ed28-6ca4-4b2c-9ee8-89469756e056"
      },
      "source": [
        "np_matrix=np.random.rand(5,5)\n",
        "idx_choose=np.random.choice(5,3,replace=False)\n",
        "np_matrix_choose=np_matrix[idx_choose]\n",
        "np_matrix_choose"
      ],
      "execution_count": 162,
      "outputs": [
        {
          "output_type": "execute_result",
          "data": {
            "text/plain": [
              "array([[0.86030684, 0.60893957, 0.52934091, 0.53976935, 0.78263354],\n",
              "       [0.46564044, 0.44810491, 0.25287111, 0.04426152, 0.10540586],\n",
              "       [0.23170463, 0.3480167 , 0.97909852, 0.73691323, 0.19740073]])"
            ]
          },
          "metadata": {
            "tags": []
          },
          "execution_count": 162
        }
      ]
    },
    {
      "cell_type": "markdown",
      "metadata": {
        "id": "uioGxsIH9nbm",
        "colab_type": "text"
      },
      "source": [
        "ex1 ramdome matrix 10,5 and then random value of 0 and 1 to the least colume"
      ]
    },
    {
      "cell_type": "code",
      "metadata": {
        "id": "clSZFiup9UVq",
        "colab_type": "code",
        "colab": {
          "base_uri": "https://localhost:8080/",
          "height": 187
        },
        "outputId": "fc5b687c-ffa8-4546-e7c5-d64b4c018fb1"
      },
      "source": [
        "np_matrix1=np.random.rand(10,5)\n",
        "b=np.random.randint(2,size=10)\n",
        "np_matrix1[:,4]=b\n",
        "np_matrix1\n",
        "\n",
        "\n",
        "\n",
        "\n",
        "\n",
        "\n",
        "\n",
        "\n",
        "\n",
        "\n"
      ],
      "execution_count": 204,
      "outputs": [
        {
          "output_type": "execute_result",
          "data": {
            "text/plain": [
              "array([[0.79602233, 0.32162246, 0.63850541, 0.4693785 , 1.        ],\n",
              "       [0.01677328, 0.08959949, 0.29683349, 0.28533606, 1.        ],\n",
              "       [0.23635616, 0.99797892, 0.93869737, 0.62978678, 1.        ],\n",
              "       [0.04729439, 0.62674958, 0.65484928, 0.60766735, 1.        ],\n",
              "       [0.82727433, 0.02083535, 0.13374988, 0.76412869, 1.        ],\n",
              "       [0.53136071, 0.46351743, 0.70572597, 0.58256164, 0.        ],\n",
              "       [0.49868376, 0.46152736, 0.75370466, 0.98937914, 1.        ],\n",
              "       [0.34136479, 0.65815278, 0.27901765, 0.27969758, 0.        ],\n",
              "       [0.1371217 , 0.94215018, 0.41948781, 0.88670324, 1.        ],\n",
              "       [0.31410963, 0.34495435, 0.15544178, 0.11514379, 1.        ]])"
            ]
          },
          "metadata": {
            "tags": []
          },
          "execution_count": 204
        }
      ]
    },
    {
      "cell_type": "code",
      "metadata": {
        "id": "nys4eyU1GDqt",
        "colab_type": "code",
        "colab": {
          "base_uri": "https://localhost:8080/",
          "height": 102
        },
        "outputId": "43b11242-f798-4578-fdab-39ca0788886b"
      },
      "source": [
        "np_matrix=np.random.randint(11,size=(5,5))\n",
        "np_matrix"
      ],
      "execution_count": 205,
      "outputs": [
        {
          "output_type": "execute_result",
          "data": {
            "text/plain": [
              "array([[ 3,  5,  1,  7, 10],\n",
              "       [ 6,  3,  4,  9,  3],\n",
              "       [ 7,  2,  7,  8,  1],\n",
              "       [ 1,  7, 10,  5,  1],\n",
              "       [ 2,  9,  9, 10,  4]])"
            ]
          },
          "metadata": {
            "tags": []
          },
          "execution_count": 205
        }
      ]
    },
    {
      "cell_type": "code",
      "metadata": {
        "id": "e-iyDQUhNOEc",
        "colab_type": "code",
        "colab": {
          "base_uri": "https://localhost:8080/",
          "height": 68
        },
        "outputId": "a733aca7-d7d0-4d47-e4f8-d29018650c58"
      },
      "source": [
        "np_matrix=np.delete(np_matrix,[1,2],0)\n",
        "np_matrix"
      ],
      "execution_count": 206,
      "outputs": [
        {
          "output_type": "execute_result",
          "data": {
            "text/plain": [
              "array([[ 3,  5,  1,  7, 10],\n",
              "       [ 1,  7, 10,  5,  1],\n",
              "       [ 2,  9,  9, 10,  4]])"
            ]
          },
          "metadata": {
            "tags": []
          },
          "execution_count": 206
        }
      ]
    },
    {
      "cell_type": "code",
      "metadata": {
        "id": "eoltX3UW-CpG",
        "colab_type": "code",
        "colab": {
          "base_uri": "https://localhost:8080/",
          "height": 102
        },
        "outputId": "c5922578-1e59-4c4c-fdb0-5b384df23827"
      },
      "source": [
        "np_matrix=np.random.randint(3,size=(5,5))\n",
        "np_matrix"
      ],
      "execution_count": 207,
      "outputs": [
        {
          "output_type": "execute_result",
          "data": {
            "text/plain": [
              "array([[2, 1, 1, 2, 2],\n",
              "       [1, 1, 1, 2, 1],\n",
              "       [2, 1, 2, 1, 0],\n",
              "       [0, 1, 1, 1, 2],\n",
              "       [1, 2, 0, 2, 0]])"
            ]
          },
          "metadata": {
            "tags": []
          },
          "execution_count": 207
        }
      ]
    },
    {
      "cell_type": "code",
      "metadata": {
        "id": "GiCpLbiWNppD",
        "colab_type": "code",
        "colab": {
          "base_uri": "https://localhost:8080/",
          "height": 34
        },
        "outputId": "5d43fcfd-b9bc-4bb8-da47-ab6de3f02618"
      },
      "source": [
        "result=np.where(np_matrix==2)\n",
        "result"
      ],
      "execution_count": 208,
      "outputs": [
        {
          "output_type": "execute_result",
          "data": {
            "text/plain": [
              "(array([0, 0, 0, 1, 2, 2, 3, 4, 4]), array([0, 3, 4, 3, 0, 2, 4, 1, 3]))"
            ]
          },
          "metadata": {
            "tags": []
          },
          "execution_count": 208
        }
      ]
    },
    {
      "cell_type": "code",
      "metadata": {
        "id": "fFvpQbWdOWvx",
        "colab_type": "code",
        "colab": {
          "base_uri": "https://localhost:8080/",
          "height": 102
        },
        "outputId": "0603a297-b0bf-46b0-c346-e12757b021b9"
      },
      "source": [
        "result=(np_matrix==2)\n",
        "result"
      ],
      "execution_count": 209,
      "outputs": [
        {
          "output_type": "execute_result",
          "data": {
            "text/plain": [
              "array([[ True, False, False,  True,  True],\n",
              "       [False, False, False,  True, False],\n",
              "       [ True, False,  True, False, False],\n",
              "       [False, False, False, False,  True],\n",
              "       [False,  True, False,  True, False]])"
            ]
          },
          "metadata": {
            "tags": []
          },
          "execution_count": 209
        }
      ]
    },
    {
      "cell_type": "code",
      "metadata": {
        "id": "Q9XjRc5SOtaO",
        "colab_type": "code",
        "colab": {
          "base_uri": "https://localhost:8080/",
          "height": 102
        },
        "outputId": "cabb1d75-45b1-4a3a-bd10-b7808bb5cf3b"
      },
      "source": [
        "np_matrix[result]=99\n",
        "np_matrix"
      ],
      "execution_count": 210,
      "outputs": [
        {
          "output_type": "execute_result",
          "data": {
            "text/plain": [
              "array([[99,  1,  1, 99, 99],\n",
              "       [ 1,  1,  1, 99,  1],\n",
              "       [99,  1, 99,  1,  0],\n",
              "       [ 0,  1,  1,  1, 99],\n",
              "       [ 1, 99,  0, 99,  0]])"
            ]
          },
          "metadata": {
            "tags": []
          },
          "execution_count": 210
        }
      ]
    },
    {
      "cell_type": "code",
      "metadata": {
        "id": "1h9BIlXJO7ke",
        "colab_type": "code",
        "colab": {
          "base_uri": "https://localhost:8080/",
          "height": 187
        },
        "outputId": "d390c173-e28a-452a-ea90-7c74d7efa3c6"
      },
      "source": [
        "np_matrix1=np.random.rand(10,5)\n",
        "np_matrix1"
      ],
      "execution_count": 255,
      "outputs": [
        {
          "output_type": "execute_result",
          "data": {
            "text/plain": [
              "array([[0.52470896, 0.80651851, 0.16966897, 0.36217526, 0.07305588],\n",
              "       [0.4619295 , 0.8300595 , 0.083757  , 0.70217204, 0.44861774],\n",
              "       [0.73186421, 0.26526915, 0.32822043, 0.14328834, 0.84526847],\n",
              "       [0.97623177, 0.72142019, 0.61278369, 0.21289017, 0.02097975],\n",
              "       [0.27702267, 0.22871531, 0.02307147, 0.64505257, 0.4625125 ],\n",
              "       [0.68037289, 0.91211587, 0.2803571 , 0.5607173 , 0.28890232],\n",
              "       [0.69838243, 0.53066448, 0.34961913, 0.59552021, 0.28926256],\n",
              "       [0.73203618, 0.91615337, 0.93710493, 0.59635223, 0.96725547],\n",
              "       [0.68409099, 0.46320998, 0.50383968, 0.06912194, 0.37727574],\n",
              "       [0.00669325, 0.19966948, 0.56748507, 0.98518536, 0.08121701]])"
            ]
          },
          "metadata": {
            "tags": []
          },
          "execution_count": 255
        }
      ]
    },
    {
      "cell_type": "code",
      "metadata": {
        "id": "XLkGHXixPVeF",
        "colab_type": "code",
        "colab": {
          "base_uri": "https://localhost:8080/",
          "height": 34
        },
        "outputId": "e656ffcb-144c-434a-bbd6-ef653ef56a35"
      },
      "source": [
        "A=np.random.randint(3,size=10)\n",
        "A"
      ],
      "execution_count": 256,
      "outputs": [
        {
          "output_type": "execute_result",
          "data": {
            "text/plain": [
              "array([1, 0, 2, 0, 0, 2, 0, 1, 1, 0])"
            ]
          },
          "metadata": {
            "tags": []
          },
          "execution_count": 256
        }
      ]
    },
    {
      "cell_type": "code",
      "metadata": {
        "id": "aFP3IHqgPzp1",
        "colab_type": "code",
        "colab": {
          "base_uri": "https://localhost:8080/",
          "height": 34
        },
        "outputId": "fc5df5eb-2b20-44d3-8012-55bf80f10659"
      },
      "source": [
        "result=np.where(A==2)\n",
        "result"
      ],
      "execution_count": 257,
      "outputs": [
        {
          "output_type": "execute_result",
          "data": {
            "text/plain": [
              "(array([2, 5]),)"
            ]
          },
          "metadata": {
            "tags": []
          },
          "execution_count": 257
        }
      ]
    },
    {
      "cell_type": "code",
      "metadata": {
        "id": "lzuD6S8iQwZh",
        "colab_type": "code",
        "colab": {
          "base_uri": "https://localhost:8080/",
          "height": 51
        },
        "outputId": "c6777ae4-6ac8-44f8-9a2a-a42ef223292b"
      },
      "source": [
        "r = np_matrix1[result]\n",
        "r"
      ],
      "execution_count": 258,
      "outputs": [
        {
          "output_type": "execute_result",
          "data": {
            "text/plain": [
              "array([[0.73186421, 0.26526915, 0.32822043, 0.14328834, 0.84526847],\n",
              "       [0.68037289, 0.91211587, 0.2803571 , 0.5607173 , 0.28890232]])"
            ]
          },
          "metadata": {
            "tags": []
          },
          "execution_count": 258
        }
      ]
    },
    {
      "cell_type": "markdown",
      "metadata": {
        "id": "wKFqRRNlTUaF",
        "colab_type": "text"
      },
      "source": [
        "label = ออกมาทั้งแถว!"
      ]
    },
    {
      "cell_type": "code",
      "metadata": {
        "id": "9RrqHERFRiJC",
        "colab_type": "code",
        "colab": {}
      },
      "source": [
        " "
      ],
      "execution_count": 0,
      "outputs": []
    }
  ]
}