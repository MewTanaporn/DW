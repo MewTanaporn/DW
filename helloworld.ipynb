{
  "nbformat": 4,
  "nbformat_minor": 0,
  "metadata": {
    "colab": {
      "name": "helloworld.ipynb",
      "provenance": [],
      "collapsed_sections": [],
      "include_colab_link": true
    },
    "kernelspec": {
      "name": "python3",
      "display_name": "Python 3"
    }
  },
  "cells": [
    {
      "cell_type": "markdown",
      "metadata": {
        "id": "view-in-github",
        "colab_type": "text"
      },
      "source": [
        "<a href=\"https://colab.research.google.com/github/MewTanaporn/DW/blob/master/helloworld.ipynb\" target=\"_parent\"><img src=\"https://colab.research.google.com/assets/colab-badge.svg\" alt=\"Open In Colab\"/></a>"
      ]
    },
    {
      "cell_type": "markdown",
      "metadata": {
        "id": "ldzDVe48iTkl",
        "colab_type": "text"
      },
      "source": [
        "# Hello Python หัวข้อใหญ่\n",
        "## หัวข้อรอง\n",
        "### หัวข้อรองๆ\n",
        "This is my first python program"
      ]
    },
    {
      "cell_type": "code",
      "metadata": {
        "id": "rVUYkaOrh1Pr",
        "colab_type": "code",
        "outputId": "cd04b4a2-c329-4913-ce47-362f4eff96d6",
        "colab": {
          "base_uri": "https://localhost:8080/",
          "height": 34
        }
      },
      "source": [
        "print(\"Hello World\")"
      ],
      "execution_count": 0,
      "outputs": [
        {
          "output_type": "stream",
          "text": [
            "Hello World\n"
          ],
          "name": "stdout"
        }
      ]
    },
    {
      "cell_type": "markdown",
      "metadata": {
        "id": "sqN1X3eFjMbx",
        "colab_type": "text"
      },
      "source": [
        "#Declare Variable\n",
        "how to declare variable in python"
      ]
    },
    {
      "cell_type": "code",
      "metadata": {
        "id": "tD-_z6Y6i8nX",
        "colab_type": "code",
        "outputId": "a29c8661-64b7-44f3-8d31-4e118accaacd",
        "colab": {
          "base_uri": "https://localhost:8080/",
          "height": 34
        }
      },
      "source": [
        "score=100\n",
        "name =\"Tanaporn\"\n",
        "print(\"Name is \" +name+ \" score is \"+str(score))"
      ],
      "execution_count": 0,
      "outputs": [
        {
          "output_type": "stream",
          "text": [
            "Name is Tanaporn score is 100\n"
          ],
          "name": "stdout"
        }
      ]
    },
    {
      "cell_type": "markdown",
      "metadata": {
        "id": "tpzwUhpokO6g",
        "colab_type": "text"
      },
      "source": [
        "ที่ต้องใช้strเพราะเราเอาscoreไปต่อstrเลยต้องทำงั้น ถ้านจะแสดงscoreก็printเลย"
      ]
    },
    {
      "cell_type": "code",
      "metadata": {
        "id": "gBajEhi_j5Io",
        "colab_type": "code",
        "outputId": "2e14e59d-13fd-4221-e051-090887ee1b69",
        "colab": {
          "base_uri": "https://localhost:8080/",
          "height": 34
        }
      },
      "source": [
        "a=2 \n",
        "b=3\n",
        "c=a*b\n",
        "print(c)"
      ],
      "execution_count": 9,
      "outputs": [
        {
          "output_type": "stream",
          "text": [
            "6\n"
          ],
          "name": "stdout"
        }
      ]
    },
    {
      "cell_type": "markdown",
      "metadata": {
        "id": "AozKLgSamv6P",
        "colab_type": "text"
      },
      "source": [
        "# list/List\n",
        "array keep data\n",
        "\n",
        "how to use\n",
        "\n",
        "mylistโชว์สistว่าเก็บค่าอะไร"
      ]
    },
    {
      "cell_type": "code",
      "metadata": {
        "id": "inwyF7bfkb_I",
        "colab_type": "code",
        "colab": {
          "base_uri": "https://localhost:8080/",
          "height": 34
        },
        "outputId": "4421bc07-adcb-4b86-d409-9a94feec1c89"
      },
      "source": [
        "mylist=[]\n",
        "mylist.append(\"mew\")\n",
        "mylist.append(200)\n",
        "mylist"
      ],
      "execution_count": 19,
      "outputs": [
        {
          "output_type": "execute_result",
          "data": {
            "text/plain": [
              "['mew', 200]"
            ]
          },
          "metadata": {
            "tags": []
          },
          "execution_count": 19
        }
      ]
    },
    {
      "cell_type": "markdown",
      "metadata": {
        "id": "9yAIWzKmnN99",
        "colab_type": "text"
      },
      "source": [
        "len บอกจนข้อมูลในlist"
      ]
    },
    {
      "cell_type": "code",
      "metadata": {
        "id": "SIXZuGRznM4s",
        "colab_type": "code",
        "colab": {
          "base_uri": "https://localhost:8080/",
          "height": 34
        },
        "outputId": "3143d0c1-d1b6-452d-e379-8478afc0810f"
      },
      "source": [
        "len(mylist)"
      ],
      "execution_count": 12,
      "outputs": [
        {
          "output_type": "execute_result",
          "data": {
            "text/plain": [
              "2"
            ]
          },
          "metadata": {
            "tags": []
          },
          "execution_count": 12
        }
      ]
    },
    {
      "cell_type": "markdown",
      "metadata": {
        "id": "bFOwYNkMnxAm",
        "colab_type": "text"
      },
      "source": [
        "# if else in PyThon\n",
        "how to use \n",
        "\n",
        "*** tap mean () or {}***"
      ]
    },
    {
      "cell_type": "code",
      "metadata": {
        "id": "1RM_X9oOneK8",
        "colab_type": "code",
        "colab": {
          "base_uri": "https://localhost:8080/",
          "height": 34
        },
        "outputId": "7232d7d0-b3f5-45c9-c52a-b53e4b5f0f8c"
      },
      "source": [
        "score=5\n",
        "if score > 50 :\n",
        "  print(\"Cool\")\n",
        "elif score > 20 :\n",
        "  print(\"very pass\")\n",
        "else :\n",
        "  print(\"Must Read\")\n",
        "  "
      ],
      "execution_count": 28,
      "outputs": [
        {
          "output_type": "stream",
          "text": [
            "Must Read\n"
          ],
          "name": "stdout"
        }
      ]
    },
    {
      "cell_type": "markdown",
      "metadata": {
        "id": "OnJRAoA1ooEU",
        "colab_type": "text"
      },
      "source": [
        "อยู่แนวเดียวกันคือกลุ่มเดียวกัน\n",
        "behide if else must have :"
      ]
    },
    {
      "cell_type": "code",
      "metadata": {
        "id": "RVr95HpWohDh",
        "colab_type": "code",
        "colab": {
          "base_uri": "https://localhost:8080/",
          "height": 204
        },
        "outputId": "4bd9df9a-1a93-4d68-8047-e8d1530dab78"
      },
      "source": [
        "summation=0\n",
        "for i in range(0,10):\n",
        "  print(str(i))\n",
        "  summation=summation+1\n",
        "print(\"Summation result is \"+str(summation) \"and \")"
      ],
      "execution_count": 29,
      "outputs": [
        {
          "output_type": "stream",
          "text": [
            "0\n",
            "1\n",
            "2\n",
            "3\n",
            "4\n",
            "5\n",
            "6\n",
            "7\n",
            "8\n",
            "9\n",
            "Summation result is 10\n"
          ],
          "name": "stdout"
        }
      ]
    },
    {
      "cell_type": "code",
      "metadata": {
        "id": "EzWiBWOYrfcR",
        "colab_type": "code",
        "colab": {
          "base_uri": "https://localhost:8080/",
          "height": 187
        },
        "outputId": "73d3c5cd-4825-441e-dcee-b23a29c5a217"
      },
      "source": [
        "summa=[]\n",
        "for i in range(0,10):\n",
        "  summa.append(i)\n",
        "  \n",
        "for i in summa:\n",
        "  print(str(i))\n",
        "  "
      ],
      "execution_count": 30,
      "outputs": [
        {
          "output_type": "stream",
          "text": [
            "0\n",
            "1\n",
            "2\n",
            "3\n",
            "4\n",
            "5\n",
            "6\n",
            "7\n",
            "8\n",
            "9\n"
          ],
          "name": "stdout"
        }
      ]
    },
    {
      "cell_type": "code",
      "metadata": {
        "id": "izBu-JhzsM1f",
        "colab_type": "code",
        "colab": {
          "base_uri": "https://localhost:8080/",
          "height": 187
        },
        "outputId": "fdd2d1fb-f17e-4dc6-bd5c-06d91c7294f7"
      },
      "source": [
        "summa=[]\n",
        "a=0\n",
        "for i in range(0,10):\n",
        "  a=a+5\n",
        "  summa.append(a)\n",
        "  \n",
        "for i in summa:\n",
        "  print(str(i))"
      ],
      "execution_count": 35,
      "outputs": [
        {
          "output_type": "stream",
          "text": [
            "5\n",
            "10\n",
            "15\n",
            "20\n",
            "25\n",
            "30\n",
            "35\n",
            "40\n",
            "45\n",
            "50\n"
          ],
          "name": "stdout"
        }
      ]
    },
    {
      "cell_type": "code",
      "metadata": {
        "id": "HPOWtxo4s3oH",
        "colab_type": "code",
        "colab": {
          "base_uri": "https://localhost:8080/",
          "height": 187
        },
        "outputId": "d9483e83-04f5-4b92-a60e-209b88d91f3f"
      },
      "source": [
        "summa=[]\n",
        "a=0\n",
        "for i in range(0,10):\n",
        "  a=a+5\n",
        "  summa.append(a)\n",
        "  print(a)"
      ],
      "execution_count": 36,
      "outputs": [
        {
          "output_type": "stream",
          "text": [
            "5\n",
            "10\n",
            "15\n",
            "20\n",
            "25\n",
            "30\n",
            "35\n",
            "40\n",
            "45\n",
            "50\n"
          ],
          "name": "stdout"
        }
      ]
    },
    {
      "cell_type": "code",
      "metadata": {
        "id": "adkW3oF4s7yU",
        "colab_type": "code",
        "colab": {}
      },
      "source": [
        ""
      ],
      "execution_count": 0,
      "outputs": []
    }
  ]
}